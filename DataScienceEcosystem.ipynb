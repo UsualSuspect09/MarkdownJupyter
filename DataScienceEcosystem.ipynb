{
 "cells": [
  {
   "cell_type": "markdown",
   "id": "760bc428",
   "metadata": {},
   "source": [
    "# Data Science Tools and Ecosystem\n",
    "#### In this notebook, Various Data Science Tools and Ecosystems are summarized and depicted "
   ]
  },
  {
   "cell_type": "markdown",
   "id": "079565cc",
   "metadata": {},
   "source": [
    "<b>Objectives:<b>\n",
    "- To learn about popular languages in Data Science\n",
    "- To learn about the popular libraries used in Data Science\n",
    "- To learn about Data Science Tools\n",
    "- Some basic pyhton arithmetic expression\n",
    "- To learn basic markdown handling\n",
    "    "
   ]
  },
  {
   "cell_type": "markdown",
   "id": "bdf78ac1",
   "metadata": {},
   "source": [
    "Some of the popular languages used in Data Science are:\n",
    "1. Python & its libraries\n",
    "2. TensorFlow\n",
    "3. R\n",
    "4. SQL\n",
    "5. Java"
   ]
  },
  {
   "cell_type": "markdown",
   "id": "917b1a5f",
   "metadata": {},
   "source": [
    "Some of the popular used libraries in Data Science are:\n",
    "1. Pandas\n",
    "2. NumPy\n",
    "3. Matplotlib\n",
    "4. Scikit\n",
    "5. Seaborn\n",
    "6. Beautiful Soup\n",
    "7. Keras\n",
    "8. ggplot"
   ]
  },
  {
   "cell_type": "markdown",
   "id": "3bda812d",
   "metadata": {},
   "source": [
    "|Data Science Tools |\n",
    "|-------------------|\n",
    "|Apache Spark       |\n",
    "|Apache Kafka       |\n",
    "|PyTorch            |\n"
   ]
  },
  {
   "cell_type": "markdown",
   "id": "2c78b5d9",
   "metadata": {},
   "source": [
    "### Below are a few examples of evaluating arithmetic expressions in Python\n"
   ]
  },
  {
   "cell_type": "code",
   "execution_count": 2,
   "id": "4233ebfc",
   "metadata": {},
   "outputs": [
    {
     "data": {
      "text/plain": [
       "17"
      ]
     },
     "execution_count": 2,
     "metadata": {},
     "output_type": "execute_result"
    }
   ],
   "source": [
    "(3*4)+5\n",
    "#This is a simple arithmetic expression to multiply integers and then add integers.\n"
   ]
  },
  {
   "cell_type": "code",
   "execution_count": 5,
   "id": "f332c163",
   "metadata": {},
   "outputs": [
    {
     "name": "stdout",
     "output_type": "stream",
     "text": [
      "200 minutes is equal to 3.3333333333333335\n"
     ]
    }
   ],
   "source": [
    "#This will convert 200 minutes to hours by dividing by 60.\n",
    "hours = 200/60\n",
    "print(f\"200 minutes is equal to {hours}\")\n"
   ]
  },
  {
   "cell_type": "markdown",
   "id": "584d5220",
   "metadata": {},
   "source": [
    "## Author\n",
    "Vansh Batra "
   ]
  },
  {
   "cell_type": "code",
   "execution_count": null,
   "id": "3428cf57",
   "metadata": {},
   "outputs": [],
   "source": []
  }
 ],
 "metadata": {
  "kernelspec": {
   "display_name": "Python 3 (ipykernel)",
   "language": "python",
   "name": "python3"
  },
  "language_info": {
   "codemirror_mode": {
    "name": "ipython",
    "version": 3
   },
   "file_extension": ".py",
   "mimetype": "text/x-python",
   "name": "python",
   "nbconvert_exporter": "python",
   "pygments_lexer": "ipython3",
   "version": "3.10.9"
  }
 },
 "nbformat": 4,
 "nbformat_minor": 5
}
